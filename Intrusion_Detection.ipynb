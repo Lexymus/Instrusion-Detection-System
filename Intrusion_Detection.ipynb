{
  "cells": [
    {
      "cell_type": "code",
      "execution_count": 1,
      "metadata": {},
      "outputs": [
        {
          "name": "stdout",
          "output_type": "stream",
          "text": [
            "Requirement already satisfied: lightgbm in c:\\users\\abhis\\anaconda3\\envs\\new_environment\\lib\\site-packages (4.4.0)\n",
            "Requirement already satisfied: xgboost in c:\\users\\abhis\\anaconda3\\envs\\new_environment\\lib\\site-packages (1.6.2)\n",
            "Requirement already satisfied: tabulate in c:\\users\\abhis\\anaconda3\\envs\\new_environment\\lib\\site-packages (0.9.0)\n",
            "Requirement already satisfied: optuna in c:\\users\\abhis\\anaconda3\\envs\\new_environment\\lib\\site-packages (3.6.1)\n",
            "Requirement already satisfied: numpy>=1.17.0 in c:\\users\\abhis\\anaconda3\\envs\\new_environment\\lib\\site-packages (from lightgbm) (1.21.6)\n",
            "Requirement already satisfied: scipy in c:\\users\\abhis\\anaconda3\\envs\\new_environment\\lib\\site-packages (from lightgbm) (1.7.3)\n",
            "Requirement already satisfied: sqlalchemy>=1.3.0 in c:\\users\\abhis\\anaconda3\\envs\\new_environment\\lib\\site-packages (from optuna) (2.0.30)\n",
            "Requirement already satisfied: tqdm in c:\\users\\abhis\\anaconda3\\envs\\new_environment\\lib\\site-packages (from optuna) (4.66.4)\n",
            "Requirement already satisfied: colorlog in c:\\users\\abhis\\anaconda3\\envs\\new_environment\\lib\\site-packages (from optuna) (6.8.2)\n",
            "Requirement already satisfied: packaging>=20.0 in c:\\users\\abhis\\appdata\\roaming\\python\\python37\\site-packages (from optuna) (24.0)\n",
            "Requirement already satisfied: alembic>=1.5.0 in c:\\users\\abhis\\anaconda3\\envs\\new_environment\\lib\\site-packages (from optuna) (1.12.1)\n",
            "Requirement already satisfied: PyYAML in c:\\users\\abhis\\anaconda3\\envs\\new_environment\\lib\\site-packages (from optuna) (6.0.1)\n",
            "Requirement already satisfied: importlib-metadata in c:\\users\\abhis\\anaconda3\\envs\\new_environment\\lib\\site-packages (from alembic>=1.5.0->optuna) (6.7.0)\n",
            "Requirement already satisfied: typing-extensions>=4 in c:\\users\\abhis\\anaconda3\\envs\\new_environment\\lib\\site-packages (from alembic>=1.5.0->optuna) (4.7.1)\n",
            "Requirement already satisfied: importlib-resources in c:\\users\\abhis\\anaconda3\\envs\\new_environment\\lib\\site-packages (from alembic>=1.5.0->optuna) (5.12.0)\n",
            "Requirement already satisfied: Mako in c:\\users\\abhis\\anaconda3\\envs\\new_environment\\lib\\site-packages (from alembic>=1.5.0->optuna) (1.2.4)\n",
            "Requirement already satisfied: greenlet!=0.4.17 in c:\\users\\abhis\\anaconda3\\envs\\new_environment\\lib\\site-packages (from sqlalchemy>=1.3.0->optuna) (3.0.3)\n",
            "Requirement already satisfied: colorama in c:\\users\\abhis\\appdata\\roaming\\python\\python37\\site-packages (from colorlog->optuna) (0.4.6)\n",
            "Requirement already satisfied: zipp>=0.5 in c:\\users\\abhis\\anaconda3\\envs\\new_environment\\lib\\site-packages (from importlib-metadata->alembic>=1.5.0->optuna) (3.15.0)\n",
            "Requirement already satisfied: MarkupSafe>=0.9.2 in c:\\users\\abhis\\anaconda3\\envs\\new_environment\\lib\\site-packages (from Mako->alembic>=1.5.0->optuna) (2.1.5)\n"
          ]
        }
      ],
      "source": [
        "!pip install lightgbm xgboost tabulate optuna"
      ]
    },
    {
      "cell_type": "code",
      "execution_count": 2,
      "metadata": {
        "id": "ZyqhSW6_lqED"
      },
      "outputs": [],
      "source": [
        "\n",
        "import numpy as np\n",
        "import pandas as pd\n",
        "import seaborn as sns\n",
        "import matplotlib.pyplot as plt\n",
        "from pandas.api.types import is_numeric_dtype\n",
        "import warnings\n",
        "from sklearn import tree\n",
        "from sklearn.model_selection import train_test_split\n",
        "from sklearn.neighbors import KNeighborsClassifier\n",
        "from sklearn.linear_model import LogisticRegression\n",
        "from sklearn.preprocessing import StandardScaler, LabelEncoder\n",
        "from sklearn.tree  import DecisionTreeClassifier\n",
        "from sklearn.ensemble import RandomForestClassifier, AdaBoostClassifier, VotingClassifier, GradientBoostingClassifier\n",
        "from sklearn.svm import SVC, LinearSVC\n",
        "from sklearn.naive_bayes import BernoulliNB\n",
        "from lightgbm import LGBMClassifier\n",
        "from sklearn.feature_selection import RFE\n",
        "import itertools\n",
        "from xgboost import XGBClassifier\n",
        "from tabulate import tabulate\n",
        "from sklearn.metrics import accuracy_score, f1_score\n",
        "from sklearn import metrics\n",
        "from sklearn.metrics import accuracy_score\n",
        "from sklearn.metrics import recall_score\n"
      ]
    },
    {
      "cell_type": "code",
      "execution_count": 3,
      "metadata": {
        "id": "0X7TVxSsoeEp"
      },
      "outputs": [],
      "source": [
        "train=pd.read_csv('./Train_data.csv')"
      ]
    },
    {
      "cell_type": "code",
      "execution_count": 4,
      "metadata": {
        "id": "IVZKboAzqOIB"
      },
      "outputs": [],
      "source": [
        "test=pd.read_csv('./Test_data.csv')"
      ]
    },
    {
      "cell_type": "code",
      "execution_count": 5,
      "metadata": {
        "colab": {
          "base_uri": "https://localhost:8080/"
        },
        "id": "ve4kwNdEtTgD",
        "outputId": "5d0d8af8-09dc-4e46-d869-9472578e98b4"
      },
      "outputs": [
        {
          "name": "stdout",
          "output_type": "stream",
          "text": [
            "<class 'pandas.core.frame.DataFrame'>\n",
            "RangeIndex: 25192 entries, 0 to 25191\n",
            "Data columns (total 42 columns):\n",
            " #   Column                       Non-Null Count  Dtype  \n",
            "---  ------                       --------------  -----  \n",
            " 0   duration                     25192 non-null  int64  \n",
            " 1   protocol_type                25192 non-null  object \n",
            " 2   service                      25192 non-null  object \n",
            " 3   flag                         25192 non-null  object \n",
            " 4   src_bytes                    25192 non-null  int64  \n",
            " 5   dst_bytes                    25192 non-null  int64  \n",
            " 6   land                         25192 non-null  int64  \n",
            " 7   wrong_fragment               25192 non-null  int64  \n",
            " 8   urgent                       25192 non-null  int64  \n",
            " 9   hot                          25192 non-null  int64  \n",
            " 10  num_failed_logins            25192 non-null  int64  \n",
            " 11  logged_in                    25192 non-null  int64  \n",
            " 12  num_compromised              25192 non-null  int64  \n",
            " 13  root_shell                   25192 non-null  int64  \n",
            " 14  su_attempted                 25192 non-null  int64  \n",
            " 15  num_root                     25192 non-null  int64  \n",
            " 16  num_file_creations           25192 non-null  int64  \n",
            " 17  num_shells                   25192 non-null  int64  \n",
            " 18  num_access_files             25192 non-null  int64  \n",
            " 19  num_outbound_cmds            25192 non-null  int64  \n",
            " 20  is_host_login                25192 non-null  int64  \n",
            " 21  is_guest_login               25192 non-null  int64  \n",
            " 22  count                        25192 non-null  int64  \n",
            " 23  srv_count                    25192 non-null  int64  \n",
            " 24  serror_rate                  25192 non-null  float64\n",
            " 25  srv_serror_rate              25192 non-null  float64\n",
            " 26  rerror_rate                  25192 non-null  float64\n",
            " 27  srv_rerror_rate              25192 non-null  float64\n",
            " 28  same_srv_rate                25192 non-null  float64\n",
            " 29  diff_srv_rate                25192 non-null  float64\n",
            " 30  srv_diff_host_rate           25192 non-null  float64\n",
            " 31  dst_host_count               25192 non-null  int64  \n",
            " 32  dst_host_srv_count           25192 non-null  int64  \n",
            " 33  dst_host_same_srv_rate       25192 non-null  float64\n",
            " 34  dst_host_diff_srv_rate       25192 non-null  float64\n",
            " 35  dst_host_same_src_port_rate  25192 non-null  float64\n",
            " 36  dst_host_srv_diff_host_rate  25192 non-null  float64\n",
            " 37  dst_host_serror_rate         25192 non-null  float64\n",
            " 38  dst_host_srv_serror_rate     25192 non-null  float64\n",
            " 39  dst_host_rerror_rate         25192 non-null  float64\n",
            " 40  dst_host_srv_rerror_rate     25192 non-null  float64\n",
            " 41  class                        25192 non-null  object \n",
            "dtypes: float64(15), int64(23), object(4)\n",
            "memory usage: 8.1+ MB\n"
          ]
        }
      ],
      "source": [
        "train.info()"
      ]
    },
    {
      "cell_type": "code",
      "execution_count": 6,
      "metadata": {
        "colab": {
          "base_uri": "https://localhost:8080/",
          "height": 349
        },
        "id": "ED2y_zFNtW6y",
        "outputId": "33e7efb8-3cb3-4e7a-b8ce-d68c30fe5e33"
      },
      "outputs": [
        {
          "data": {
            "text/html": [
              "<div>\n",
              "<style scoped>\n",
              "    .dataframe tbody tr th:only-of-type {\n",
              "        vertical-align: middle;\n",
              "    }\n",
              "\n",
              "    .dataframe tbody tr th {\n",
              "        vertical-align: top;\n",
              "    }\n",
              "\n",
              "    .dataframe thead th {\n",
              "        text-align: right;\n",
              "    }\n",
              "</style>\n",
              "<table border=\"1\" class=\"dataframe\">\n",
              "  <thead>\n",
              "    <tr style=\"text-align: right;\">\n",
              "      <th></th>\n",
              "      <th>duration</th>\n",
              "      <th>src_bytes</th>\n",
              "      <th>dst_bytes</th>\n",
              "      <th>land</th>\n",
              "      <th>wrong_fragment</th>\n",
              "      <th>urgent</th>\n",
              "      <th>hot</th>\n",
              "      <th>num_failed_logins</th>\n",
              "      <th>logged_in</th>\n",
              "      <th>num_compromised</th>\n",
              "      <th>...</th>\n",
              "      <th>dst_host_count</th>\n",
              "      <th>dst_host_srv_count</th>\n",
              "      <th>dst_host_same_srv_rate</th>\n",
              "      <th>dst_host_diff_srv_rate</th>\n",
              "      <th>dst_host_same_src_port_rate</th>\n",
              "      <th>dst_host_srv_diff_host_rate</th>\n",
              "      <th>dst_host_serror_rate</th>\n",
              "      <th>dst_host_srv_serror_rate</th>\n",
              "      <th>dst_host_rerror_rate</th>\n",
              "      <th>dst_host_srv_rerror_rate</th>\n",
              "    </tr>\n",
              "  </thead>\n",
              "  <tbody>\n",
              "    <tr>\n",
              "      <th>count</th>\n",
              "      <td>25192.000000</td>\n",
              "      <td>2.519200e+04</td>\n",
              "      <td>2.519200e+04</td>\n",
              "      <td>25192.000000</td>\n",
              "      <td>25192.000000</td>\n",
              "      <td>25192.00000</td>\n",
              "      <td>25192.000000</td>\n",
              "      <td>25192.000000</td>\n",
              "      <td>25192.000000</td>\n",
              "      <td>25192.000000</td>\n",
              "      <td>...</td>\n",
              "      <td>25192.000000</td>\n",
              "      <td>25192.000000</td>\n",
              "      <td>25192.000000</td>\n",
              "      <td>25192.000000</td>\n",
              "      <td>25192.000000</td>\n",
              "      <td>25192.000000</td>\n",
              "      <td>25192.000000</td>\n",
              "      <td>25192.000000</td>\n",
              "      <td>25192.000000</td>\n",
              "      <td>25192.000000</td>\n",
              "    </tr>\n",
              "    <tr>\n",
              "      <th>mean</th>\n",
              "      <td>305.054104</td>\n",
              "      <td>2.433063e+04</td>\n",
              "      <td>3.491847e+03</td>\n",
              "      <td>0.000079</td>\n",
              "      <td>0.023738</td>\n",
              "      <td>0.00004</td>\n",
              "      <td>0.198039</td>\n",
              "      <td>0.001191</td>\n",
              "      <td>0.394768</td>\n",
              "      <td>0.227850</td>\n",
              "      <td>...</td>\n",
              "      <td>182.532074</td>\n",
              "      <td>115.063036</td>\n",
              "      <td>0.519791</td>\n",
              "      <td>0.082539</td>\n",
              "      <td>0.147453</td>\n",
              "      <td>0.031844</td>\n",
              "      <td>0.285800</td>\n",
              "      <td>0.279846</td>\n",
              "      <td>0.117800</td>\n",
              "      <td>0.118769</td>\n",
              "    </tr>\n",
              "    <tr>\n",
              "      <th>std</th>\n",
              "      <td>2686.555640</td>\n",
              "      <td>2.410805e+06</td>\n",
              "      <td>8.883072e+04</td>\n",
              "      <td>0.008910</td>\n",
              "      <td>0.260221</td>\n",
              "      <td>0.00630</td>\n",
              "      <td>2.154202</td>\n",
              "      <td>0.045418</td>\n",
              "      <td>0.488811</td>\n",
              "      <td>10.417352</td>\n",
              "      <td>...</td>\n",
              "      <td>98.993895</td>\n",
              "      <td>110.646850</td>\n",
              "      <td>0.448944</td>\n",
              "      <td>0.187191</td>\n",
              "      <td>0.308367</td>\n",
              "      <td>0.110575</td>\n",
              "      <td>0.445316</td>\n",
              "      <td>0.446075</td>\n",
              "      <td>0.305869</td>\n",
              "      <td>0.317333</td>\n",
              "    </tr>\n",
              "    <tr>\n",
              "      <th>min</th>\n",
              "      <td>0.000000</td>\n",
              "      <td>0.000000e+00</td>\n",
              "      <td>0.000000e+00</td>\n",
              "      <td>0.000000</td>\n",
              "      <td>0.000000</td>\n",
              "      <td>0.00000</td>\n",
              "      <td>0.000000</td>\n",
              "      <td>0.000000</td>\n",
              "      <td>0.000000</td>\n",
              "      <td>0.000000</td>\n",
              "      <td>...</td>\n",
              "      <td>0.000000</td>\n",
              "      <td>0.000000</td>\n",
              "      <td>0.000000</td>\n",
              "      <td>0.000000</td>\n",
              "      <td>0.000000</td>\n",
              "      <td>0.000000</td>\n",
              "      <td>0.000000</td>\n",
              "      <td>0.000000</td>\n",
              "      <td>0.000000</td>\n",
              "      <td>0.000000</td>\n",
              "    </tr>\n",
              "    <tr>\n",
              "      <th>25%</th>\n",
              "      <td>0.000000</td>\n",
              "      <td>0.000000e+00</td>\n",
              "      <td>0.000000e+00</td>\n",
              "      <td>0.000000</td>\n",
              "      <td>0.000000</td>\n",
              "      <td>0.00000</td>\n",
              "      <td>0.000000</td>\n",
              "      <td>0.000000</td>\n",
              "      <td>0.000000</td>\n",
              "      <td>0.000000</td>\n",
              "      <td>...</td>\n",
              "      <td>84.000000</td>\n",
              "      <td>10.000000</td>\n",
              "      <td>0.050000</td>\n",
              "      <td>0.000000</td>\n",
              "      <td>0.000000</td>\n",
              "      <td>0.000000</td>\n",
              "      <td>0.000000</td>\n",
              "      <td>0.000000</td>\n",
              "      <td>0.000000</td>\n",
              "      <td>0.000000</td>\n",
              "    </tr>\n",
              "    <tr>\n",
              "      <th>50%</th>\n",
              "      <td>0.000000</td>\n",
              "      <td>4.400000e+01</td>\n",
              "      <td>0.000000e+00</td>\n",
              "      <td>0.000000</td>\n",
              "      <td>0.000000</td>\n",
              "      <td>0.00000</td>\n",
              "      <td>0.000000</td>\n",
              "      <td>0.000000</td>\n",
              "      <td>0.000000</td>\n",
              "      <td>0.000000</td>\n",
              "      <td>...</td>\n",
              "      <td>255.000000</td>\n",
              "      <td>61.000000</td>\n",
              "      <td>0.510000</td>\n",
              "      <td>0.030000</td>\n",
              "      <td>0.000000</td>\n",
              "      <td>0.000000</td>\n",
              "      <td>0.000000</td>\n",
              "      <td>0.000000</td>\n",
              "      <td>0.000000</td>\n",
              "      <td>0.000000</td>\n",
              "    </tr>\n",
              "    <tr>\n",
              "      <th>75%</th>\n",
              "      <td>0.000000</td>\n",
              "      <td>2.790000e+02</td>\n",
              "      <td>5.302500e+02</td>\n",
              "      <td>0.000000</td>\n",
              "      <td>0.000000</td>\n",
              "      <td>0.00000</td>\n",
              "      <td>0.000000</td>\n",
              "      <td>0.000000</td>\n",
              "      <td>1.000000</td>\n",
              "      <td>0.000000</td>\n",
              "      <td>...</td>\n",
              "      <td>255.000000</td>\n",
              "      <td>255.000000</td>\n",
              "      <td>1.000000</td>\n",
              "      <td>0.070000</td>\n",
              "      <td>0.060000</td>\n",
              "      <td>0.020000</td>\n",
              "      <td>1.000000</td>\n",
              "      <td>1.000000</td>\n",
              "      <td>0.000000</td>\n",
              "      <td>0.000000</td>\n",
              "    </tr>\n",
              "    <tr>\n",
              "      <th>max</th>\n",
              "      <td>42862.000000</td>\n",
              "      <td>3.817091e+08</td>\n",
              "      <td>5.151385e+06</td>\n",
              "      <td>1.000000</td>\n",
              "      <td>3.000000</td>\n",
              "      <td>1.00000</td>\n",
              "      <td>77.000000</td>\n",
              "      <td>4.000000</td>\n",
              "      <td>1.000000</td>\n",
              "      <td>884.000000</td>\n",
              "      <td>...</td>\n",
              "      <td>255.000000</td>\n",
              "      <td>255.000000</td>\n",
              "      <td>1.000000</td>\n",
              "      <td>1.000000</td>\n",
              "      <td>1.000000</td>\n",
              "      <td>1.000000</td>\n",
              "      <td>1.000000</td>\n",
              "      <td>1.000000</td>\n",
              "      <td>1.000000</td>\n",
              "      <td>1.000000</td>\n",
              "    </tr>\n",
              "  </tbody>\n",
              "</table>\n",
              "<p>8 rows × 38 columns</p>\n",
              "</div>"
            ],
            "text/plain": [
              "           duration     src_bytes     dst_bytes          land  wrong_fragment  \\\n",
              "count  25192.000000  2.519200e+04  2.519200e+04  25192.000000    25192.000000   \n",
              "mean     305.054104  2.433063e+04  3.491847e+03      0.000079        0.023738   \n",
              "std     2686.555640  2.410805e+06  8.883072e+04      0.008910        0.260221   \n",
              "min        0.000000  0.000000e+00  0.000000e+00      0.000000        0.000000   \n",
              "25%        0.000000  0.000000e+00  0.000000e+00      0.000000        0.000000   \n",
              "50%        0.000000  4.400000e+01  0.000000e+00      0.000000        0.000000   \n",
              "75%        0.000000  2.790000e+02  5.302500e+02      0.000000        0.000000   \n",
              "max    42862.000000  3.817091e+08  5.151385e+06      1.000000        3.000000   \n",
              "\n",
              "            urgent           hot  num_failed_logins     logged_in  \\\n",
              "count  25192.00000  25192.000000       25192.000000  25192.000000   \n",
              "mean       0.00004      0.198039           0.001191      0.394768   \n",
              "std        0.00630      2.154202           0.045418      0.488811   \n",
              "min        0.00000      0.000000           0.000000      0.000000   \n",
              "25%        0.00000      0.000000           0.000000      0.000000   \n",
              "50%        0.00000      0.000000           0.000000      0.000000   \n",
              "75%        0.00000      0.000000           0.000000      1.000000   \n",
              "max        1.00000     77.000000           4.000000      1.000000   \n",
              "\n",
              "       num_compromised  ...  dst_host_count  dst_host_srv_count  \\\n",
              "count     25192.000000  ...    25192.000000        25192.000000   \n",
              "mean          0.227850  ...      182.532074          115.063036   \n",
              "std          10.417352  ...       98.993895          110.646850   \n",
              "min           0.000000  ...        0.000000            0.000000   \n",
              "25%           0.000000  ...       84.000000           10.000000   \n",
              "50%           0.000000  ...      255.000000           61.000000   \n",
              "75%           0.000000  ...      255.000000          255.000000   \n",
              "max         884.000000  ...      255.000000          255.000000   \n",
              "\n",
              "       dst_host_same_srv_rate  dst_host_diff_srv_rate  \\\n",
              "count            25192.000000            25192.000000   \n",
              "mean                 0.519791                0.082539   \n",
              "std                  0.448944                0.187191   \n",
              "min                  0.000000                0.000000   \n",
              "25%                  0.050000                0.000000   \n",
              "50%                  0.510000                0.030000   \n",
              "75%                  1.000000                0.070000   \n",
              "max                  1.000000                1.000000   \n",
              "\n",
              "       dst_host_same_src_port_rate  dst_host_srv_diff_host_rate  \\\n",
              "count                 25192.000000                 25192.000000   \n",
              "mean                      0.147453                     0.031844   \n",
              "std                       0.308367                     0.110575   \n",
              "min                       0.000000                     0.000000   \n",
              "25%                       0.000000                     0.000000   \n",
              "50%                       0.000000                     0.000000   \n",
              "75%                       0.060000                     0.020000   \n",
              "max                       1.000000                     1.000000   \n",
              "\n",
              "       dst_host_serror_rate  dst_host_srv_serror_rate  dst_host_rerror_rate  \\\n",
              "count          25192.000000              25192.000000          25192.000000   \n",
              "mean               0.285800                  0.279846              0.117800   \n",
              "std                0.445316                  0.446075              0.305869   \n",
              "min                0.000000                  0.000000              0.000000   \n",
              "25%                0.000000                  0.000000              0.000000   \n",
              "50%                0.000000                  0.000000              0.000000   \n",
              "75%                1.000000                  1.000000              0.000000   \n",
              "max                1.000000                  1.000000              1.000000   \n",
              "\n",
              "       dst_host_srv_rerror_rate  \n",
              "count              25192.000000  \n",
              "mean                   0.118769  \n",
              "std                    0.317333  \n",
              "min                    0.000000  \n",
              "25%                    0.000000  \n",
              "50%                    0.000000  \n",
              "75%                    0.000000  \n",
              "max                    1.000000  \n",
              "\n",
              "[8 rows x 38 columns]"
            ]
          },
          "execution_count": 6,
          "metadata": {},
          "output_type": "execute_result"
        }
      ],
      "source": [
        "train.describe()"
      ]
    },
    {
      "cell_type": "code",
      "execution_count": 7,
      "metadata": {
        "colab": {
          "base_uri": "https://localhost:8080/",
          "height": 175
        },
        "id": "GfQr_paCtbkI",
        "outputId": "6aae1c9d-34bf-4e06-fce2-85ad9d73249b"
      },
      "outputs": [
        {
          "data": {
            "text/html": [
              "<div>\n",
              "<style scoped>\n",
              "    .dataframe tbody tr th:only-of-type {\n",
              "        vertical-align: middle;\n",
              "    }\n",
              "\n",
              "    .dataframe tbody tr th {\n",
              "        vertical-align: top;\n",
              "    }\n",
              "\n",
              "    .dataframe thead th {\n",
              "        text-align: right;\n",
              "    }\n",
              "</style>\n",
              "<table border=\"1\" class=\"dataframe\">\n",
              "  <thead>\n",
              "    <tr style=\"text-align: right;\">\n",
              "      <th></th>\n",
              "      <th>protocol_type</th>\n",
              "      <th>service</th>\n",
              "      <th>flag</th>\n",
              "      <th>class</th>\n",
              "    </tr>\n",
              "  </thead>\n",
              "  <tbody>\n",
              "    <tr>\n",
              "      <th>count</th>\n",
              "      <td>25192</td>\n",
              "      <td>25192</td>\n",
              "      <td>25192</td>\n",
              "      <td>25192</td>\n",
              "    </tr>\n",
              "    <tr>\n",
              "      <th>unique</th>\n",
              "      <td>3</td>\n",
              "      <td>66</td>\n",
              "      <td>11</td>\n",
              "      <td>2</td>\n",
              "    </tr>\n",
              "    <tr>\n",
              "      <th>top</th>\n",
              "      <td>tcp</td>\n",
              "      <td>http</td>\n",
              "      <td>SF</td>\n",
              "      <td>normal</td>\n",
              "    </tr>\n",
              "    <tr>\n",
              "      <th>freq</th>\n",
              "      <td>20526</td>\n",
              "      <td>8003</td>\n",
              "      <td>14973</td>\n",
              "      <td>13449</td>\n",
              "    </tr>\n",
              "  </tbody>\n",
              "</table>\n",
              "</div>"
            ],
            "text/plain": [
              "       protocol_type service   flag   class\n",
              "count          25192   25192  25192   25192\n",
              "unique             3      66     11       2\n",
              "top              tcp    http     SF  normal\n",
              "freq           20526    8003  14973   13449"
            ]
          },
          "execution_count": 7,
          "metadata": {},
          "output_type": "execute_result"
        }
      ],
      "source": [
        "train.describe(include='object')"
      ]
    },
    {
      "cell_type": "code",
      "execution_count": 8,
      "metadata": {
        "colab": {
          "base_uri": "https://localhost:8080/"
        },
        "id": "ls-_hXe1tl3X",
        "outputId": "bc8f9a5b-67ee-4f56-dcbb-389716d9b671"
      },
      "outputs": [
        {
          "data": {
            "text/plain": [
              "duration                       0\n",
              "protocol_type                  0\n",
              "service                        0\n",
              "flag                           0\n",
              "src_bytes                      0\n",
              "dst_bytes                      0\n",
              "land                           0\n",
              "wrong_fragment                 0\n",
              "urgent                         0\n",
              "hot                            0\n",
              "num_failed_logins              0\n",
              "logged_in                      0\n",
              "num_compromised                0\n",
              "root_shell                     0\n",
              "su_attempted                   0\n",
              "num_root                       0\n",
              "num_file_creations             0\n",
              "num_shells                     0\n",
              "num_access_files               0\n",
              "num_outbound_cmds              0\n",
              "is_host_login                  0\n",
              "is_guest_login                 0\n",
              "count                          0\n",
              "srv_count                      0\n",
              "serror_rate                    0\n",
              "srv_serror_rate                0\n",
              "rerror_rate                    0\n",
              "srv_rerror_rate                0\n",
              "same_srv_rate                  0\n",
              "diff_srv_rate                  0\n",
              "srv_diff_host_rate             0\n",
              "dst_host_count                 0\n",
              "dst_host_srv_count             0\n",
              "dst_host_same_srv_rate         0\n",
              "dst_host_diff_srv_rate         0\n",
              "dst_host_same_src_port_rate    0\n",
              "dst_host_srv_diff_host_rate    0\n",
              "dst_host_serror_rate           0\n",
              "dst_host_srv_serror_rate       0\n",
              "dst_host_rerror_rate           0\n",
              "dst_host_srv_rerror_rate       0\n",
              "class                          0\n",
              "dtype: int64"
            ]
          },
          "execution_count": 8,
          "metadata": {},
          "output_type": "execute_result"
        }
      ],
      "source": [
        "train.isnull().sum()"
      ]
    },
    {
      "cell_type": "code",
      "execution_count": 9,
      "metadata": {
        "id": "-6i0kvUxtve0"
      },
      "outputs": [],
      "source": [
        "total = train.shape[0]\n",
        "missing_columns = [col for col in train.columns if train[col].isnull().sum() > 0]\n",
        "for col in missing_columns:\n",
        "    null_count = train[col].isnull().sum()\n",
        "    per = (null_count/total) * 100\n",
        "    print(f\"{col}: {null_count} ({round(per, 3)}%)\")"
      ]
    },
    {
      "cell_type": "code",
      "execution_count": 10,
      "metadata": {
        "colab": {
          "base_uri": "https://localhost:8080/"
        },
        "id": "ckgcGL3tt454",
        "outputId": "10b1b38e-2720-460c-9e8e-a3b6551c1a30"
      },
      "outputs": [
        {
          "name": "stdout",
          "output_type": "stream",
          "text": [
            "Number of duplicate rows: 0\n"
          ]
        }
      ],
      "source": [
        "print(f\"Number of duplicate rows: {train.duplicated().sum()}\")"
      ]
    },
    {
      "cell_type": "code",
      "execution_count": 11,
      "metadata": {
        "colab": {
          "base_uri": "https://localhost:8080/",
          "height": 469
        },
        "id": "h2ABI7twuFdm",
        "outputId": "f4e83bed-36da-4159-dedf-99849d2b485a"
      },
      "outputs": [
        {
          "data": {
            "text/plain": [
              "<AxesSubplot:xlabel='class', ylabel='count'>"
            ]
          },
          "execution_count": 11,
          "metadata": {},
          "output_type": "execute_result"
        },
        {
          "data": {
            "image/png": "[encoded data removed]",
            "text/plain": [
              "<Figure size 640x480 with 1 Axes>"
            ]
          },
          "metadata": {},
          "output_type": "display_data"
        }
      ],
      "source": [
        "sns.countplot(x=train['class'])"
      ]
    },
    {
      "cell_type": "code",
      "execution_count": 12,
      "metadata": {
        "colab": {
          "base_uri": "https://localhost:8080/"
        },
        "id": "lf-PtMKCuK8x",
        "outputId": "d67d03dd-c4e6-4d02-ade8-12915e1e501a"
      },
      "outputs": [
        {
          "name": "stdout",
          "output_type": "stream",
          "text": [
            "Class Distribution Training Set:\n",
            "normal     13449\n",
            "anomaly    11743\n",
            "Name: class, dtype: int64\n"
          ]
        }
      ],
      "source": [
        "print('Class Distribution Training Set:')\n",
        "print(train['class'].value_counts())"
      ]
    },
    {
      "cell_type": "code",
      "execution_count": 13,
      "metadata": {
        "id": "Pb_VtfxQu2pM"
      },
      "outputs": [],
      "source": [
        "def le(df):\n",
        "    for col in df.columns:\n",
        "        if df[col].dtype == 'object':\n",
        "                label_encoder = LabelEncoder()\n",
        "                df[col] = label_encoder.fit_transform(df[col])\n",
        "\n",
        "le(train)\n",
        "le(test)"
      ]
    },
    {
      "cell_type": "code",
      "execution_count": 14,
      "metadata": {
        "id": "qQHhym9mvCw_"
      },
      "outputs": [],
      "source": [
        "train.drop(['num_outbound_cmds'], axis=1, inplace=True)\n",
        "test.drop(['num_outbound_cmds'], axis=1, inplace=True)"
      ]
    },
    {
      "cell_type": "code",
      "execution_count": 15,
      "metadata": {
        "id": "P_fwZayCvH1M"
      },
      "outputs": [],
      "source": [
        "X_train = train.drop(['class'], axis=1)\n",
        "Y_train = train['class']"
      ]
    },
    {
      "cell_type": "code",
      "execution_count": 16,
      "metadata": {
        "colab": {
          "base_uri": "https://localhost:8080/"
        },
        "id": "c-OOeJ7VvLas",
        "outputId": "e247a61a-2ccb-40ca-b79d-9a66028c7455"
      },
      "outputs": [
        {
          "data": {
            "text/plain": [
              "['protocol_type',\n",
              " 'service',\n",
              " 'flag',\n",
              " 'src_bytes',\n",
              " 'dst_bytes',\n",
              " 'count',\n",
              " 'same_srv_rate',\n",
              " 'diff_srv_rate',\n",
              " 'dst_host_srv_count',\n",
              " 'dst_host_same_srv_rate']"
            ]
          },
          "execution_count": 16,
          "metadata": {},
          "output_type": "execute_result"
        }
      ],
      "source": [
        "rfc = RandomForestClassifier()\n",
        "\n",
        "rfe = RFE(rfc, n_features_to_select=10)\n",
        "rfe = rfe.fit(X_train, Y_train)\n",
        "\n",
        "feature_map = [(i, v) for i, v in itertools.zip_longest(rfe.get_support(), X_train.columns)]\n",
        "selected_features = [v for i, v in feature_map if i==True]\n",
        "\n",
        "selected_features"
      ]
    },
    {
      "cell_type": "code",
      "execution_count": 17,
      "metadata": {
        "id": "ByJFnDjhvPTQ"
      },
      "outputs": [],
      "source": [
        "X_train = X_train[selected_features]"
      ]
    },
    {
      "cell_type": "code",
      "execution_count": 18,
      "metadata": {
        "id": "VO487mOsvjl3"
      },
      "outputs": [],
      "source": [
        "scale = StandardScaler()\n",
        "X_train = scale.fit_transform(X_train)\n",
        "test = scale.fit_transform(test)"
      ]
    },
    {
      "cell_type": "code",
      "execution_count": 19,
      "metadata": {
        "id": "3oEJGQ7nvlrp"
      },
      "outputs": [],
      "source": [
        "x_train, x_test, y_train, y_test = train_test_split(X_train, Y_train, train_size=0.70, random_state=2)"
      ]
    },
    {
      "cell_type": "markdown",
      "metadata": {
        "id": "SajFyKswPPOO"
      },
      "source": [
        "# SVC"
      ]
    },
    {
      "cell_type": "code",
      "execution_count": 20,
      "metadata": {
        "colab": {
          "base_uri": "https://localhost:8080/",
          "height": 74
        },
        "id": "mMyHVxFNMppn",
        "outputId": "0e2d7e2d-37e8-4153-c425-7b7c1b9491e3"
      },
      "outputs": [
        {
          "data": {
            "text/plain": [
              "SVC(kernel='linear', random_state=0)"
            ]
          },
          "execution_count": 20,
          "metadata": {},
          "output_type": "execute_result"
        }
      ],
      "source": [
        "from sklearn.svm import SVC\n",
        "svc = SVC(kernel=\"linear\",random_state=0)\n",
        "svc.fit(x_train,y_train)"
      ]
    },
    {
      "cell_type": "code",
      "execution_count": 21,
      "metadata": {
        "id": "RJeVokk9MpsP"
      },
      "outputs": [],
      "source": [
        "svc_y_pred = svc.predict(x_test)"
      ]
    },
    {
      "cell_type": "code",
      "execution_count": 22,
      "metadata": {
        "colab": {
          "base_uri": "https://localhost:8080/"
        },
        "id": "W8WKag60MpvB",
        "outputId": "b6a656ee-8a92-44ba-8966-e4e70a5ea42c"
      },
      "outputs": [
        {
          "data": {
            "text/plain": [
              "0.9323895210373114"
            ]
          },
          "execution_count": 22,
          "metadata": {},
          "output_type": "execute_result"
        }
      ],
      "source": [
        "\n",
        "accuracy_score(y_test,svc_y_pred)"
      ]
    },
    {
      "cell_type": "code",
      "execution_count": 23,
      "metadata": {
        "colab": {
          "base_uri": "https://localhost:8080/"
        },
        "id": "OMI_aZklMpxS",
        "outputId": "08a560b5-05e2-43bd-adca-8d370d478185"
      },
      "outputs": [
        {
          "name": "stdout",
          "output_type": "stream",
          "text": [
            "Training Score: 0.9356357037541114\n",
            "Test Score: 0.9323895210373114\n"
          ]
        }
      ],
      "source": [
        "svc_train, svc_test = svc.score(x_train , y_train), svc.score(x_test , y_test)\n",
        "\n",
        "print(f\"Training Score: {svc_train}\")\n",
        "print(f\"Test Score: {svc_test}\")"
      ]
    },
    {
      "cell_type": "code",
      "execution_count": 24,
      "metadata": {
        "colab": {
          "base_uri": "https://localhost:8080/"
        },
        "id": "HvSBcPN4Mp0Y",
        "outputId": "04cbf405-235e-4a8c-c264-96c47f268d87"
      },
      "outputs": [
        {
          "name": "stdout",
          "output_type": "stream",
          "text": [
            "F1-score 0.9322310075600991\n"
          ]
        }
      ],
      "source": [
        "f1_score = metrics.f1_score(y_test,svc_y_pred,average='weighted')\n",
        "print(\"F1-score\", f1_score)"
      ]
    },
    {
      "cell_type": "markdown",
      "metadata": {
        "id": "YalbTRC-PlCY"
      },
      "source": [
        "# Random Forest"
      ]
    },
    {
      "cell_type": "code",
      "execution_count": 25,
      "metadata": {
        "colab": {
          "base_uri": "https://localhost:8080/",
          "height": 74
        },
        "id": "kK78Fl_3OKyr",
        "outputId": "8f6dfb27-539e-446d-a8af-91e52478546e"
      },
      "outputs": [
        {
          "data": {
            "text/plain": [
              "RandomForestClassifier(n_estimators=50)"
            ]
          },
          "execution_count": 25,
          "metadata": {},
          "output_type": "execute_result"
        }
      ],
      "source": [
        "from sklearn.ensemble import RandomForestClassifier\n",
        "clf = RandomForestClassifier(n_estimators=50)\n",
        "clf.fit(x_train,y_train)"
      ]
    },
    {
      "cell_type": "code",
      "execution_count": 26,
      "metadata": {
        "id": "uKA6egtVOK1y"
      },
      "outputs": [],
      "source": [
        "clf_y_pred = clf.predict(x_test)"
      ]
    },
    {
      "cell_type": "code",
      "execution_count": 27,
      "metadata": {
        "colab": {
          "base_uri": "https://localhost:8080/"
        },
        "id": "gitScMcOOK5Y",
        "outputId": "4a58bb3c-27d9-40dc-ee83-0f05584e233a"
      },
      "outputs": [
        {
          "name": "stdout",
          "output_type": "stream",
          "text": [
            "Accuracy: 0.9964276263561789\n"
          ]
        }
      ],
      "source": [
        "accuracy = accuracy_score(y_test,clf_y_pred)\n",
        "print(\"Accuracy:\", accuracy)"
      ]
    },
    {
      "cell_type": "code",
      "execution_count": 28,
      "metadata": {
        "colab": {
          "base_uri": "https://localhost:8080/"
        },
        "id": "p_dXMKh-OK89",
        "outputId": "0f049f64-67e8-4d84-ef18-cc802527473d"
      },
      "outputs": [
        {
          "name": "stdout",
          "output_type": "stream",
          "text": [
            "Training Score: 1.0\n",
            "Test Score: 0.9964276263561789\n"
          ]
        }
      ],
      "source": [
        "ran_train, ran_test = clf.score(x_train , y_train), clf.score(x_test , y_test)\n",
        "\n",
        "print(f\"Training Score: {ran_train}\")\n",
        "print(f\"Test Score: {ran_test}\")"
      ]
    },
    {
      "cell_type": "code",
      "execution_count": 29,
      "metadata": {
        "colab": {
          "base_uri": "https://localhost:8080/"
        },
        "id": "cuu_ZlYvMp5M",
        "outputId": "53daf637-bfa3-4b02-80f6-a206a4b757eb"
      },
      "outputs": [
        {
          "name": "stdout",
          "output_type": "stream",
          "text": [
            "F1-score 0.9964275909508982\n"
          ]
        }
      ],
      "source": [
        "f1_score = metrics.f1_score(y_test,clf_y_pred,average='weighted')\n",
        "print(\"F1-score\", f1_score)"
      ]
    },
    {
      "cell_type": "markdown",
      "metadata": {
        "id": "jOJMy5B9Prfq"
      },
      "source": [
        "# Gradient Boost"
      ]
    },
    {
      "cell_type": "code",
      "execution_count": 30,
      "metadata": {
        "colab": {
          "base_uri": "https://localhost:8080/",
          "height": 74
        },
        "id": "RKv8aibnOlha",
        "outputId": "10ff28ed-b0f2-4d05-e9af-24c8f12ece9c"
      },
      "outputs": [
        {
          "data": {
            "text/plain": [
              "GradientBoostingClassifier()"
            ]
          },
          "execution_count": 30,
          "metadata": {},
          "output_type": "execute_result"
        }
      ],
      "source": [
        "from sklearn.ensemble import GradientBoostingClassifier\n",
        "\n",
        "grd = GradientBoostingClassifier()\n",
        "grd.fit(x_train,y_train)"
      ]
    },
    {
      "cell_type": "code",
      "execution_count": 31,
      "metadata": {
        "id": "CZAHBKHJOlkt"
      },
      "outputs": [],
      "source": [
        "y_pred = grd.predict(x_test)"
      ]
    },
    {
      "cell_type": "code",
      "execution_count": 32,
      "metadata": {
        "colab": {
          "base_uri": "https://localhost:8080/"
        },
        "id": "_-NoFLsEOlne",
        "outputId": "073d5ee0-09a7-4758-d2af-71121eda5835"
      },
      "outputs": [
        {
          "name": "stdout",
          "output_type": "stream",
          "text": [
            "Accuracy of Gradient Boost is:  99.27229425774014 %\n"
          ]
        }
      ],
      "source": [
        "print('Accuracy of Gradient Boost is: ', grd.score(x_test,y_test) * 100,'%')"
      ]
    },
    {
      "cell_type": "code",
      "execution_count": 33,
      "metadata": {
        "colab": {
          "base_uri": "https://localhost:8080/"
        },
        "id": "IT9SQ2bpOlpg",
        "outputId": "f89be6b6-e897-4f5e-8d7b-7395f5f5172b"
      },
      "outputs": [
        {
          "name": "stdout",
          "output_type": "stream",
          "text": [
            "Training Score: 0.9947828059430646\n",
            "Test Score: 0.9927229425774015\n"
          ]
        }
      ],
      "source": [
        "grd_train, grd_test = grd.score(x_train , y_train), grd.score(x_test , y_test)\n",
        "\n",
        "print(f\"Training Score: {grd_train}\")\n",
        "print(f\"Test Score: {grd_test}\")"
      ]
    },
    {
      "cell_type": "markdown",
      "metadata": {
        "id": "z9XQKx3WPxG2"
      },
      "source": [
        "# Logistic Regression"
      ]
    },
    {
      "cell_type": "code",
      "execution_count": 34,
      "metadata": {
        "id": "Ka_VFXcNwDDC"
      },
      "outputs": [],
      "source": [
        "import time"
      ]
    },
    {
      "cell_type": "code",
      "execution_count": 35,
      "metadata": {
        "colab": {
          "base_uri": "https://localhost:8080/"
        },
        "id": "-3L9Si6owHUj",
        "outputId": "547f52f6-721b-4968-8967-f6e0f4eb7afa"
      },
      "outputs": [
        {
          "name": "stdout",
          "output_type": "stream",
          "text": [
            "Training time:  0.057062387466430664\n"
          ]
        }
      ],
      "source": [
        "from sklearn.linear_model import LogisticRegression\n",
        "\n",
        "clfl = LogisticRegression(max_iter = 1200000)\n",
        "start_time = time.time()\n",
        "clfl.fit(x_train, y_train.values.ravel())\n",
        "end_time = time.time()\n",
        "print(\"Training time: \", end_time-start_time)"
      ]
    },
    {
      "cell_type": "code",
      "execution_count": 36,
      "metadata": {
        "colab": {
          "base_uri": "https://localhost:8080/"
        },
        "id": "yZjMkWsIwKli",
        "outputId": "50c0bbb6-eee1-4504-a9b8-e5acf12c7fc7"
      },
      "outputs": [
        {
          "name": "stdout",
          "output_type": "stream",
          "text": [
            "Testing time:  0.002354860305786133\n"
          ]
        }
      ],
      "source": [
        "start_time = time.time()\n",
        "y_test_pred = clfl.predict(x_train)\n",
        "end_time = time.time()\n",
        "print(\"Testing time: \", end_time-start_time)"
      ]
    },
    {
      "cell_type": "code",
      "execution_count": 37,
      "metadata": {
        "colab": {
          "base_uri": "https://localhost:8080/",
          "height": 74
        },
        "id": "GYDU9GCdwOw0",
        "outputId": "78c3d2e6-1fa6-479f-85ea-44c4105575d2"
      },
      "outputs": [
        {
          "data": {
            "text/plain": [
              "LogisticRegression(random_state=42)"
            ]
          },
          "execution_count": 37,
          "metadata": {},
          "output_type": "execute_result"
        }
      ],
      "source": [
        "lg_model = LogisticRegression(random_state = 42)\n",
        "lg_model.fit(x_train, y_train)"
      ]
    },
    {
      "cell_type": "code",
      "execution_count": 38,
      "metadata": {
        "colab": {
          "base_uri": "https://localhost:8080/"
        },
        "id": "8s8mkAwywRps",
        "outputId": "b718d208-fc67-49a4-eeca-e1f1d133c3ec"
      },
      "outputs": [
        {
          "name": "stdout",
          "output_type": "stream",
          "text": [
            "Training Score: 0.9287739593966202\n",
            "Test Score: 0.9231278115903678\n"
          ]
        }
      ],
      "source": [
        "lg_train, lg_test = lg_model.score(x_train , y_train), lg_model.score(x_test , y_test)\n",
        "\n",
        "print(f\"Training Score: {lg_train}\")\n",
        "print(f\"Test Score: {lg_test}\")"
      ]
    },
    {
      "cell_type": "code",
      "execution_count": 39,
      "metadata": {
        "colab": {
          "base_uri": "https://localhost:8080/"
        },
        "id": "WDrQ5jlIP8CO",
        "outputId": "44ad41c7-66ed-439d-bc95-213446af6a25"
      },
      "outputs": [
        {
          "name": "stdout",
          "output_type": "stream",
          "text": [
            "Accuracy of logistic Regression is:  92.31278115903679 %\n"
          ]
        }
      ],
      "source": [
        "print('Accuracy of logistic Regression is: ', lg_model.score(x_test,y_test) * 100,'%')"
      ]
    },
    {
      "cell_type": "code",
      "execution_count": 40,
      "metadata": {
        "colab": {
          "base_uri": "https://localhost:8080/"
        },
        "id": "X2tYO6ajwUz6",
        "outputId": "d15d7ab7-7056-4850-cb99-1d87049aaeeb"
      },
      "outputs": [
        {
          "name": "stdout",
          "output_type": "stream",
          "text": [
            "Requirement already satisfied: optuna in c:\\users\\abhis\\anaconda3\\envs\\new_environment\\lib\\site-packages (3.6.1)\n",
            "Requirement already satisfied: numpy in c:\\users\\abhis\\anaconda3\\envs\\new_environment\\lib\\site-packages (from optuna) (1.21.6)\n",
            "Requirement already satisfied: packaging>=20.0 in c:\\users\\abhis\\appdata\\roaming\\python\\python37\\site-packages (from optuna) (24.0)\n",
            "Requirement already satisfied: PyYAML in c:\\users\\abhis\\anaconda3\\envs\\new_environment\\lib\\site-packages (from optuna) (6.0.1)\n",
            "Requirement already satisfied: alembic>=1.5.0 in c:\\users\\abhis\\anaconda3\\envs\\new_environment\\lib\\site-packages (from optuna) (1.12.1)\n",
            "Requirement already satisfied: sqlalchemy>=1.3.0 in c:\\users\\abhis\\anaconda3\\envs\\new_environment\\lib\\site-packages (from optuna) (2.0.30)\n",
            "Requirement already satisfied: colorlog in c:\\users\\abhis\\anaconda3\\envs\\new_environment\\lib\\site-packages (from optuna) (6.8.2)\n",
            "Requirement already satisfied: tqdm in c:\\users\\abhis\\anaconda3\\envs\\new_environment\\lib\\site-packages (from optuna) (4.66.4)\n",
            "Requirement already satisfied: importlib-resources in c:\\users\\abhis\\anaconda3\\envs\\new_environment\\lib\\site-packages (from alembic>=1.5.0->optuna) (5.12.0)\n",
            "Requirement already satisfied: importlib-metadata in c:\\users\\abhis\\anaconda3\\envs\\new_environment\\lib\\site-packages (from alembic>=1.5.0->optuna) (6.7.0)\n",
            "Requirement already satisfied: typing-extensions>=4 in c:\\users\\abhis\\anaconda3\\envs\\new_environment\\lib\\site-packages (from alembic>=1.5.0->optuna) (4.7.1)\n",
            "Requirement already satisfied: Mako in c:\\users\\abhis\\anaconda3\\envs\\new_environment\\lib\\site-packages (from alembic>=1.5.0->optuna) (1.2.4)\n",
            "Requirement already satisfied: greenlet!=0.4.17 in c:\\users\\abhis\\anaconda3\\envs\\new_environment\\lib\\site-packages (from sqlalchemy>=1.3.0->optuna) (3.0.3)\n",
            "Requirement already satisfied: colorama in c:\\users\\abhis\\appdata\\roaming\\python\\python37\\site-packages (from colorlog->optuna) (0.4.6)\n",
            "Requirement already satisfied: zipp>=0.5 in c:\\users\\abhis\\anaconda3\\envs\\new_environment\\lib\\site-packages (from importlib-metadata->alembic>=1.5.0->optuna) (3.15.0)\n",
            "Requirement already satisfied: MarkupSafe>=0.9.2 in c:\\users\\abhis\\anaconda3\\envs\\new_environment\\lib\\site-packages (from Mako->alembic>=1.5.0->optuna) (2.1.5)\n"
          ]
        }
      ],
      "source": [
        "!pip install optuna"
      ]
    },
    {
      "cell_type": "code",
      "execution_count": 41,
      "metadata": {
        "id": "htjHNT7swhtv"
      },
      "outputs": [
        {
          "name": "stderr",
          "output_type": "stream",
          "text": [
            "c:\\Users\\abhis\\anaconda3\\envs\\new_environment\\lib\\site-packages\\tqdm\\auto.py:21: TqdmWarning: IProgress not found. Please update jupyter and ipywidgets. See https://ipywidgets.readthedocs.io/en/stable/user_install.html\n",
            "  from .autonotebook import tqdm as notebook_tqdm\n"
          ]
        }
      ],
      "source": [
        "import optuna\n",
        "optuna.logging.set_verbosity(optuna.logging.WARNING)"
      ]
    },
    {
      "cell_type": "markdown",
      "metadata": {
        "id": "CeKl1XrnQSBe"
      },
      "source": [
        "# KNN"
      ]
    },
    {
      "cell_type": "code",
      "execution_count": 42,
      "metadata": {
        "id": "lhb2tw4owuK9"
      },
      "outputs": [],
      "source": [
        "\n",
        "def objective(trial):\n",
        "    n_neighbors = trial.suggest_int('KNN_n_neighbors', 2, 16, log=False)\n",
        "    classifier_obj = KNeighborsClassifier(n_neighbors=n_neighbors)\n",
        "    classifier_obj.fit(x_train, y_train)\n",
        "    accuracy = classifier_obj.score(x_test, y_test)\n",
        "    return accuracy"
      ]
    },
    {
      "cell_type": "code",
      "execution_count": 43,
      "metadata": {
        "colab": {
          "base_uri": "https://localhost:8080/"
        },
        "id": "8vWNK8tSwwYv",
        "outputId": "123ac82b-0769-4066-83b4-a4b7110cdeb2"
      },
      "outputs": [
        {
          "name": "stdout",
          "output_type": "stream",
          "text": [
            "FrozenTrial(number=0, state=TrialState.COMPLETE, values=[0.9797565493516803], datetime_start=datetime.datetime(2024, 6, 16, 16, 0, 8, 810403), datetime_complete=datetime.datetime(2024, 6, 16, 16, 0, 9, 535712), params={'KNN_n_neighbors': 15}, user_attrs={}, system_attrs={}, intermediate_values={}, distributions={'KNN_n_neighbors': IntDistribution(high=16, log=False, low=2, step=1)}, trial_id=0, value=None)\n"
          ]
        }
      ],
      "source": [
        "\n",
        "study_KNN = optuna.create_study(direction='maximize')\n",
        "study_KNN.optimize(objective, n_trials=1)\n",
        "print(study_KNN.best_trial)"
      ]
    },
    {
      "cell_type": "code",
      "execution_count": 44,
      "metadata": {
        "colab": {
          "base_uri": "https://localhost:8080/"
        },
        "id": "O6dnp1fZwz6s",
        "outputId": "d692223c-9288-45e7-8fcb-64f9e28523e1"
      },
      "outputs": [
        {
          "name": "stdout",
          "output_type": "stream",
          "text": [
            "Train Score: 0.9807190654417602\n",
            "Test Score: 0.9797565493516803\n"
          ]
        }
      ],
      "source": [
        "\n",
        "KNN_model = KNeighborsClassifier(n_neighbors=study_KNN.best_trial.params['KNN_n_neighbors'])\n",
        "KNN_model.fit(x_train, y_train)\n",
        "\n",
        "KNN_train, KNN_test = KNN_model.score(x_train, y_train), KNN_model.score(x_test, y_test)\n",
        "\n",
        "print(f\"Train Score: {KNN_train}\")\n",
        "print(f\"Test Score: {KNN_test}\")"
      ]
    },
    {
      "cell_type": "markdown",
      "metadata": {
        "id": "pRY7sA2fQVfS"
      },
      "source": [
        "# Decesion Tree Classifier"
      ]
    },
    {
      "cell_type": "code",
      "execution_count": 45,
      "metadata": {
        "colab": {
          "base_uri": "https://localhost:8080/"
        },
        "id": "Mi95brTYw4Vo",
        "outputId": "b86a3950-2d85-4695-b194-84816019dd76"
      },
      "outputs": [
        {
          "name": "stdout",
          "output_type": "stream",
          "text": [
            "Training time:  0.015631675720214844\n"
          ]
        }
      ],
      "source": [
        "\n",
        "from sklearn.tree import DecisionTreeClassifier\n",
        "\n",
        "clfd = DecisionTreeClassifier(criterion =\"entropy\", max_depth = 4)\n",
        "start_time = time.time()\n",
        "clfd.fit(x_train, y_train.values.ravel())\n",
        "end_time = time.time()\n",
        "print(\"Training time: \", end_time-start_time)"
      ]
    },
    {
      "cell_type": "code",
      "execution_count": 46,
      "metadata": {
        "colab": {
          "base_uri": "https://localhost:8080/"
        },
        "id": "Ep6k89_Cw9-g",
        "outputId": "a0f614e4-96aa-4b98-ba63-f8afc2259666"
      },
      "outputs": [
        {
          "name": "stdout",
          "output_type": "stream",
          "text": [
            "Testing time:  0.0029904842376708984\n"
          ]
        }
      ],
      "source": [
        "start_time = time.time()\n",
        "y_test_pred = clfd.predict(x_train)\n",
        "end_time = time.time()\n",
        "print(\"Testing time: \", end_time-start_time)"
      ]
    },
    {
      "cell_type": "code",
      "execution_count": 47,
      "metadata": {
        "id": "ArdBwJ4OxAE6"
      },
      "outputs": [],
      "source": [
        "def objective(trial):\n",
        "    dt_max_depth = trial.suggest_int('dt_max_depth', 2, 32, log=False)\n",
        "    dt_max_features = trial.suggest_int('dt_max_features', 2, 10, log=False)\n",
        "    classifier_obj = DecisionTreeClassifier(max_features = dt_max_features, max_depth = dt_max_depth)\n",
        "    classifier_obj.fit(x_train, y_train)\n",
        "    accuracy = classifier_obj.score(x_test, y_test)\n",
        "    return accuracy"
      ]
    },
    {
      "cell_type": "code",
      "execution_count": 48,
      "metadata": {
        "colab": {
          "base_uri": "https://localhost:8080/"
        },
        "id": "XJczR7DvxEY_",
        "outputId": "047ece85-2a93-4da1-9ba2-929c4e864c10"
      },
      "outputs": [
        {
          "name": "stdout",
          "output_type": "stream",
          "text": [
            "FrozenTrial(number=17, state=TrialState.COMPLETE, values=[0.9960306959513099], datetime_start=datetime.datetime(2024, 6, 16, 16, 0, 12, 268490), datetime_complete=datetime.datetime(2024, 6, 16, 16, 0, 12, 301934), params={'dt_max_depth': 15, 'dt_max_features': 8}, user_attrs={}, system_attrs={}, intermediate_values={}, distributions={'dt_max_depth': IntDistribution(high=32, log=False, low=2, step=1), 'dt_max_features': IntDistribution(high=10, log=False, low=2, step=1)}, trial_id=17, value=None)\n"
          ]
        }
      ],
      "source": [
        "\n",
        "study_dt = optuna.create_study(direction='maximize')\n",
        "study_dt.optimize(objective, n_trials=30)\n",
        "print(study_dt.best_trial)"
      ]
    },
    {
      "cell_type": "code",
      "execution_count": 49,
      "metadata": {
        "colab": {
          "base_uri": "https://localhost:8080/"
        },
        "id": "z79ghBdkxG1T",
        "outputId": "3af45179-e0cb-474e-f5ba-0bdfebb2f71d"
      },
      "outputs": [
        {
          "name": "stdout",
          "output_type": "stream",
          "text": [
            "Train Score: 0.9999432913689463\n",
            "Test Score: 0.9945752844667901\n"
          ]
        }
      ],
      "source": [
        "#DTree\n",
        "dt = DecisionTreeClassifier(max_features = study_dt.best_trial.params['dt_max_features'], max_depth = study_dt.best_trial.params['dt_max_depth'])\n",
        "dt.fit(x_train, y_train)\n",
        "\n",
        "dt_train, dt_test = dt.score(x_train, y_train), dt.score(x_test, y_test)\n",
        "\n",
        "print(f\"Train Score: {dt_train}\")\n",
        "print(f\"Test Score: {dt_test}\")\n",
        "\n"
      ]
    },
    {
      "cell_type": "markdown",
      "metadata": {},
      "source": [
        "# Plotting different Models and their accuracy"
      ]
    },
    {
      "cell_type": "code",
      "execution_count": 50,
      "metadata": {
        "colab": {
          "base_uri": "https://localhost:8080/"
        },
        "id": "LM-QzE1BxeTI",
        "outputId": "d6a9883c-2e9c-4ccc-e59a-ae3bc65640c5"
      },
      "outputs": [
        {
          "name": "stdout",
          "output_type": "stream",
          "text": [
            "╒═════════════════════╤═══════════════╤══════════════╕\n",
            "│ Model               │   Train Score │   Test Score │\n",
            "╞═════════════════════╪═══════════════╪══════════════╡\n",
            "│ KNN                 │      0.980719 │     0.979757 │\n",
            "├─────────────────────┼───────────────┼──────────────┤\n",
            "│ Logistic Regression │      0.928774 │     0.923128 │\n",
            "├─────────────────────┼───────────────┼──────────────┤\n",
            "│ Decision Tree       │      0.999943 │     0.994575 │\n",
            "├─────────────────────┼───────────────┼──────────────┤\n",
            "│ SVC                 │      0.935636 │     0.93239  │\n",
            "├─────────────────────┼───────────────┼──────────────┤\n",
            "│ Random Forest       │      1        │     0.996428 │\n",
            "├─────────────────────┼───────────────┼──────────────┤\n",
            "│ Gradient            │      0.994783 │     0.992723 │\n",
            "╘═════════════════════╧═══════════════╧══════════════╛\n"
          ]
        }
      ],
      "source": [
        "data = [[\"KNN\", KNN_train, KNN_test],\n",
        "        [\"Logistic Regression\", lg_train, lg_test],\n",
        "        [\"Decision Tree\", dt_train, dt_test],\n",
        "        [\"SVC\", svc_train, svc_test ],\n",
        "        [\"Random Forest\", ran_train, ran_test],\n",
        "        [\"Gradient\", grd_train, grd_test]]\n",
        "\n",
        "col_names = [\"Model\", \"Train Score\", \"Test Score\"]\n",
        "print(tabulate(data, headers=col_names, tablefmt=\"fancy_grid\"))"
      ]
    },
    {
      "cell_type": "code",
      "execution_count": 51,
      "metadata": {
        "id": "gaMJm8Exxh4N"
      },
      "outputs": [],
      "source": [
        "\n",
        "SEED = 42\n",
        "\n",
        "# Decision Tree Model\n",
        "dtc = DecisionTreeClassifier()\n",
        "\n",
        "# KNN\n",
        "knn = KNeighborsClassifier()\n",
        "\n",
        "# LOGISTIC REGRESSION MODEL\n",
        "\n",
        "lr = LogisticRegression()\n",
        "\n",
        "svc = SVC()\n",
        "grd=GradientBoostingClassifier()\n",
        "ran=RandomForestClassifier(n_estimators=50)\n"
      ]
    },
    {
      "cell_type": "code",
      "execution_count": 52,
      "metadata": {
        "id": "AdxAGDJ9yE9J"
      },
      "outputs": [],
      "source": [
        "\n",
        "models = {}\n",
        "models['KNeighborsClassifier']= knn\n",
        "models['LogisticRegression']= lr\n",
        "models['DecisionTreeClassifier']= dtc\n",
        "models['SVC']=svc\n",
        "models['GradientBostingClassifier']=grd\n",
        "models['RandomForest']=ran"
      ]
    },
    {
      "cell_type": "code",
      "execution_count": 53,
      "metadata": {
        "id": "2B6aNSqtyHME"
      },
      "outputs": [],
      "source": [
        "from sklearn.model_selection import cross_val_score\n",
        "\n",
        "scores = {}\n",
        "for name in models:\n",
        "  scores[name]={}\n",
        "  for scorer in ['precision','recall']:\n",
        "    scores[name][scorer] = cross_val_score(models[name], x_train, y_train, cv=10, scoring=scorer)"
      ]
    },
    {
      "cell_type": "code",
      "execution_count": 54,
      "metadata": {
        "colab": {
          "base_uri": "https://localhost:8080/"
        },
        "id": "62ti0uvoyQf2",
        "outputId": "84a37244-60f4-45f1-94c3-ca5f6e1488f7"
      },
      "outputs": [
        {
          "name": "stdout",
          "output_type": "stream",
          "text": [
            "--------------- KNeighborsClassifier Model Validation ---------------\n",
            "Mean precision: \n",
            " 98.45 % +- 0.48\n",
            "\n",
            "Mean recall: \n",
            " 98.24 % +- 0.54\n",
            "\n",
            "---------------- LogisticRegression Model Validation ----------------\n",
            "Mean precision: \n",
            " 91.35 % +- 0.57\n",
            "\n",
            "Mean recall: \n",
            " 95.72 % +- 0.67\n",
            "\n",
            "-------------- DecisionTreeClassifier Model Validation --------------\n",
            "Mean precision: \n",
            " 99.51 % +- 0.2\n",
            "\n",
            "Mean recall: \n",
            " 99.55 % +- 0.2\n",
            "\n",
            "------------------------ SVC Model Validation ------------------------\n",
            "Mean precision: \n",
            " 95.74 % +- 0.59\n",
            "\n",
            "Mean recall: \n",
            " 98.34 % +- 0.43\n",
            "\n",
            "------------- GradientBostingClassifier Model Validation -------------\n",
            "Mean precision: \n",
            " 99.14 % +- 0.31\n",
            "\n",
            "Mean recall: \n",
            " 99.52 % +- 0.21\n",
            "\n",
            "------------------- RandomForest Model Validation -------------------\n",
            "Mean precision: \n",
            " 99.59 % +- 0.17\n",
            "\n",
            "Mean recall: \n",
            " 99.82 % +- 0.13\n",
            "\n"
          ]
        }
      ],
      "source": [
        "def line(name):\n",
        "  return '-'*(25-len(name)//2)\n",
        "\n",
        "for name in models:\n",
        "  print(line(name), name, 'Model Validation', line(name))\n",
        "\n",
        "  for scorer in ['precision','recall']:\n",
        "    mean = round(np.mean(scores[name][scorer])*100,2)\n",
        "    stdev = round(np.std(scores[name][scorer])*100,2)\n",
        "    print (\"Mean {}:\".format(scorer),\"\\n\", mean,\"%\", \"+-\",stdev)\n",
        "    print()"
      ]
    },
    {
      "cell_type": "code",
      "execution_count": 55,
      "metadata": {
        "colab": {
          "base_uri": "https://localhost:8080/",
          "height": 409
        },
        "id": "CugfkzSSyauC",
        "outputId": "3b58d0be-fae8-45aa-9524-933bea8a9401"
      },
      "outputs": [
        {
          "data": {
            "text/plain": [
              "<AxesSubplot:>"
            ]
          },
          "execution_count": 55,
          "metadata": {},
          "output_type": "execute_result"
        },
        {
          "data": {
            "image/png": "[encoded data removed]",
            "text/plain": [
              "<Figure size 2400x600 with 1 Axes>"
            ]
          },
          "metadata": {},
          "output_type": "display_data"
        }
      ],
      "source": [
        "for name in models:\n",
        "    for scorer in ['precision','recall']:\n",
        "        scores[name][scorer] = scores[name][scorer].mean()\n",
        "scores=pd.DataFrame(scores).swapaxes(\"index\", \"columns\")*100\n",
        "scores.plot(kind = \"bar\",  ylim=[80,100], figsize=(24,6), rot=0)"
      ]
    },
    {
      "cell_type": "code",
      "execution_count": 56,
      "metadata": {
        "id": "Md0KynExyim9"
      },
      "outputs": [],
      "source": [
        "models = {}\n",
        "models['KNN']= knn\n",
        "models['LR']= lr\n",
        "models['DC']= dtc\n",
        "models['SVC']=svc\n",
        "models['GRD']=grd\n",
        "models['Rf']=ran"
      ]
    },
    {
      "cell_type": "code",
      "execution_count": 57,
      "metadata": {
        "colab": {
          "base_uri": "https://localhost:8080/"
        },
        "id": "ur5VbZYjylhn",
        "outputId": "c6b1c003-ada2-487c-f066-d21dc98cf287"
      },
      "outputs": [
        {
          "name": "stdout",
          "output_type": "stream",
          "text": [
            "Predictions complete.\n"
          ]
        }
      ],
      "source": [
        "preds={}\n",
        "for name in models:\n",
        "    models[name].fit(x_train, y_train)\n",
        "    preds[name] = models[name].predict(x_test)\n",
        "print(\"Predictions complete.\")"
      ]
    },
    {
      "cell_type": "code",
      "execution_count": null,
      "metadata": {},
      "outputs": [],
      "source": []
    },
    {
      "cell_type": "code",
      "execution_count": 58,
      "metadata": {
        "colab": {
          "base_uri": "https://localhost:8080/"
        },
        "id": "mKxg8gAHyoy_",
        "outputId": "ab14ee94-bfba-4f62-86fe-f13b92bf3b44"
      },
      "outputs": [
        {
          "name": "stdout",
          "output_type": "stream",
          "text": [
            "------------------------ KNN Model Testing ------------------------\n",
            "[[3435   63]\n",
            " [  65 3995]]\n",
            "------------------------\n",
            "              precision    recall  f1-score   support\n",
            "\n",
            "      normal       0.98      0.98      0.98      3498\n",
            "     anamoly       0.98      0.98      0.98      4060\n",
            "\n",
            "    accuracy                           0.98      7558\n",
            "   macro avg       0.98      0.98      0.98      7558\n",
            "weighted avg       0.98      0.98      0.98      7558\n",
            "\n",
            "------------------------ LR Model Testing ------------------------\n",
            "[[3127  371]\n",
            " [ 210 3850]]\n",
            "------------------------\n",
            "              precision    recall  f1-score   support\n",
            "\n",
            "      normal       0.94      0.89      0.91      3498\n",
            "     anamoly       0.91      0.95      0.93      4060\n",
            "\n",
            "    accuracy                           0.92      7558\n",
            "   macro avg       0.92      0.92      0.92      7558\n",
            "weighted avg       0.92      0.92      0.92      7558\n",
            "\n",
            "------------------------ DC Model Testing ------------------------\n",
            "[[3483   15]\n",
            " [  27 4033]]\n",
            "------------------------\n",
            "              precision    recall  f1-score   support\n",
            "\n",
            "      normal       0.99      1.00      0.99      3498\n",
            "     anamoly       1.00      0.99      0.99      4060\n",
            "\n",
            "    accuracy                           0.99      7558\n",
            "   macro avg       0.99      0.99      0.99      7558\n",
            "weighted avg       0.99      0.99      0.99      7558\n",
            "\n",
            "------------------------ SVC Model Testing ------------------------\n",
            "[[3338  160]\n",
            " [  60 4000]]\n",
            "------------------------\n",
            "              precision    recall  f1-score   support\n",
            "\n",
            "      normal       0.98      0.95      0.97      3498\n",
            "     anamoly       0.96      0.99      0.97      4060\n",
            "\n",
            "    accuracy                           0.97      7558\n",
            "   macro avg       0.97      0.97      0.97      7558\n",
            "weighted avg       0.97      0.97      0.97      7558\n",
            "\n",
            "------------------------ GRD Model Testing ------------------------\n",
            "[[3473   25]\n",
            " [  30 4030]]\n",
            "------------------------\n",
            "              precision    recall  f1-score   support\n",
            "\n",
            "      normal       0.99      0.99      0.99      3498\n",
            "     anamoly       0.99      0.99      0.99      4060\n",
            "\n",
            "    accuracy                           0.99      7558\n",
            "   macro avg       0.99      0.99      0.99      7558\n",
            "weighted avg       0.99      0.99      0.99      7558\n",
            "\n",
            "------------------------ Rf Model Testing ------------------------\n",
            "[[3483   15]\n",
            " [  13 4047]]\n",
            "------------------------\n",
            "              precision    recall  f1-score   support\n",
            "\n",
            "      normal       1.00      1.00      1.00      3498\n",
            "     anamoly       1.00      1.00      1.00      4060\n",
            "\n",
            "    accuracy                           1.00      7558\n",
            "   macro avg       1.00      1.00      1.00      7558\n",
            "weighted avg       1.00      1.00      1.00      7558\n",
            "\n"
          ]
        }
      ],
      "source": [
        "from sklearn.metrics import confusion_matrix\n",
        "from sklearn.metrics import classification_report\n",
        "\n",
        "def line(name,sym=\"-\"):\n",
        "    return sym*(25-len(name)//2)\n",
        "target_names=[\"normal\",\"anamoly\"]\n",
        "for name in models:\n",
        "    print(line(name), name, 'Model Testing', line(name))\n",
        "    print(confusion_matrix(y_test, preds[name]))\n",
        "    print(line(name,'-'))\n",
        "    print(classification_report(y_test, preds[name], target_names=target_names))"
      ]
    },
    {
      "cell_type": "code",
      "execution_count": 59,
      "metadata": {
        "colab": {
          "base_uri": "https://localhost:8080/",
          "height": 545
        },
        "id": "ho4cWij1yxgC",
        "outputId": "4c838b0b-f4fe-4701-de9f-e2bfd3049791"
      },
      "outputs": [
        {
          "data": {
            "text/plain": [
              "<AxesSubplot:>"
            ]
          },
          "execution_count": 59,
          "metadata": {},
          "output_type": "execute_result"
        },
        {
          "data": {
            "image/png": "[encoded data removed]",
            "text/plain": [
              "<Figure size 1000x600 with 1 Axes>"
            ]
          },
          "metadata": {},
          "output_type": "display_data"
        }
      ],
      "source": [
        "\n",
        "from sklearn.metrics import accuracy_score, f1_score\n",
        "\n",
        "f1s = {}\n",
        "for name in models:\n",
        "    f1s[name]=f1_score(y_test, preds[name])\n",
        "f1s=pd.DataFrame(f1s.values(),index=f1s.keys(),columns=[\"F1-score\"])*100\n",
        "f1s.plot(kind = \"bar\",  ylim=[80,100], figsize=(10,6), rot=0)\n",
        "\n"
      ]
    },
    {
      "cell_type": "code",
      "execution_count": 60,
      "metadata": {
        "colab": {
          "base_uri": "https://localhost:8080/"
        },
        "id": "mLtUfG0a2Xr7",
        "outputId": "72353be4-2e23-4d15-f760-6ad70b85f9c2"
      },
      "outputs": [
        {
          "data": {
            "text/plain": [
              "KNN    98.423257\n",
              "LR     92.983939\n",
              "DC     99.481993\n",
              "SVC    97.323601\n",
              "GRD    99.322243\n",
              "Rf     99.655257\n",
              "Name: F1-score, dtype: float64"
            ]
          },
          "execution_count": 60,
          "metadata": {},
          "output_type": "execute_result"
        }
      ],
      "source": [
        "f1s['F1-score']"
      ]
    },
    {
      "cell_type": "markdown",
      "metadata": {},
      "source": [
        "# Deep learning Approach"
      ]
    },
    {
      "cell_type": "code",
      "execution_count": 61,
      "metadata": {},
      "outputs": [],
      "source": [
        "import numpy as np\n",
        "import pandas as pd\n",
        "import seaborn as sns\n",
        "import matplotlib.pyplot as plt\n",
        "from pandas.api.types import is_numeric_dtype\n",
        "import warnings\n",
        "from sklearn import tree\n",
        "from sklearn.model_selection import train_test_split, cross_val_score\n",
        "from sklearn.neighbors import KNeighborsClassifier\n",
        "from sklearn.linear_model import LogisticRegression\n",
        "from sklearn.preprocessing import StandardScaler, LabelEncoder\n",
        "from sklearn.tree import DecisionTreeClassifier\n",
        "from sklearn.ensemble import RandomForestClassifier, AdaBoostClassifier, VotingClassifier, GradientBoostingClassifier\n",
        "from sklearn.svm import SVC, LinearSVC\n",
        "from sklearn.naive_bayes import BernoulliNB\n",
        "from lightgbm import LGBMClassifier\n",
        "from sklearn.feature_selection import RFE\n",
        "import itertools\n",
        "from xgboost import XGBClassifier\n",
        "from tabulate import tabulate\n",
        "from sklearn.metrics import accuracy_score, f1_score, recall_score, confusion_matrix, classification_report\n",
        "from sklearn import metrics\n",
        "import tensorflow as tf\n",
        "from tensorflow.keras.models import Sequential\n",
        "from tensorflow.keras.layers import Dense, Dropout\n",
        "from tensorflow.keras.optimizers import Adam\n",
        "from tensorflow.keras.callbacks import EarlyStopping\n"
      ]
    },
    {
      "cell_type": "markdown",
      "metadata": {},
      "source": [
        "# Load data"
      ]
    },
    {
      "cell_type": "code",
      "execution_count": 62,
      "metadata": {},
      "outputs": [],
      "source": [
        "\n",
        "train = pd.read_csv('./Train_data.csv')\n",
        "test = pd.read_csv('./Test_data.csv')\n"
      ]
    },
    {
      "cell_type": "markdown",
      "metadata": {},
      "source": [
        "# Data preprocessing (assuming this is defined earlier in the notebook)"
      ]
    },
    {
      "cell_type": "code",
      "execution_count": 63,
      "metadata": {},
      "outputs": [],
      "source": [
        "\n",
        "def le(df):\n",
        "    for col in df.columns:\n",
        "        if df[col].dtype == 'object':\n",
        "            label_encoder = LabelEncoder()\n",
        "            df[col] = label_encoder.fit_transform(df[col])\n",
        "\n",
        "le(train)\n",
        "le(test)\n",
        "train.drop(['num_outbound_cmds'], axis=1, inplace=True)\n",
        "test.drop(['num_outbound_cmds'], axis=1, inplace=True)\n",
        "\n",
        "X_train = train.drop(['class'], axis=1)\n",
        "Y_train = train['class']\n"
      ]
    },
    {
      "cell_type": "markdown",
      "metadata": {},
      "source": [
        "# Feature Selection using RFE"
      ]
    },
    {
      "cell_type": "code",
      "execution_count": 64,
      "metadata": {},
      "outputs": [],
      "source": [
        "\n",
        "rfc = RandomForestClassifier()\n",
        "rfe = RFE(rfc, n_features_to_select=10)\n",
        "rfe = rfe.fit(X_train, Y_train)\n",
        "\n",
        "selected_features = [v for i, v in itertools.zip_longest(rfe.get_support(), X_train.columns) if i==True]\n",
        "X_train = X_train[selected_features]\n"
      ]
    },
    {
      "cell_type": "markdown",
      "metadata": {},
      "source": [
        "# Standardize features"
      ]
    },
    {
      "cell_type": "code",
      "execution_count": 65,
      "metadata": {},
      "outputs": [],
      "source": [
        "scale = StandardScaler()\n",
        "X_train = scale.fit_transform(X_train)\n",
        "test = scale.fit_transform(test)\n",
        "\n",
        "x_train, x_test, y_train, y_test = train_test_split(X_train, Y_train, train_size=0.70, random_state=2)\n"
      ]
    },
    {
      "cell_type": "markdown",
      "metadata": {},
      "source": [
        "# Model"
      ]
    },
    {
      "cell_type": "code",
      "execution_count": 66,
      "metadata": {},
      "outputs": [],
      "source": [
        "\n",
        "num_classes = len(np.unique(y_train))\n",
        "y_train_cat = tf.keras.utils.to_categorical(y_train, num_classes)\n",
        "y_test_cat = tf.keras.utils.to_categorical(y_test, num_classes)\n",
        "\n",
        "# Define the neural network model\n",
        "model = Sequential()\n",
        "model.add(Dense(64, input_dim=x_train.shape[1], activation='relu'))\n",
        "model.add(Dropout(0.5))\n",
        "model.add(Dense(32, activation='relu'))\n",
        "model.add(Dropout(0.5))\n",
        "model.add(Dense(16, activation='relu'))\n",
        "model.add(Dropout(0.5))\n",
        "model.add(Dense(num_classes, activation='softmax'))\n"
      ]
    },
    {
      "cell_type": "code",
      "execution_count": 67,
      "metadata": {},
      "outputs": [
        {
          "name": "stdout",
          "output_type": "stream",
          "text": [
            "Model: \"sequential\"\n",
            "_________________________________________________________________\n",
            " Layer (type)                Output Shape              Param #   \n",
            "=================================================================\n",
            " dense (Dense)               (None, 64)                704       \n",
            "                                                                 \n",
            " dropout (Dropout)           (None, 64)                0         \n",
            "                                                                 \n",
            " dense_1 (Dense)             (None, 32)                2080      \n",
            "                                                                 \n",
            " dropout_1 (Dropout)         (None, 32)                0         \n",
            "                                                                 \n",
            " dense_2 (Dense)             (None, 16)                528       \n",
            "                                                                 \n",
            " dropout_2 (Dropout)         (None, 16)                0         \n",
            "                                                                 \n",
            " dense_3 (Dense)             (None, 2)                 34        \n",
            "                                                                 \n",
            "=================================================================\n",
            "Total params: 3,346\n",
            "Trainable params: 3,346\n",
            "Non-trainable params: 0\n",
            "_________________________________________________________________\n"
          ]
        }
      ],
      "source": [
        "model.summary()"
      ]
    },
    {
      "cell_type": "markdown",
      "metadata": {},
      "source": [
        "# Compile and train the model "
      ]
    },
    {
      "cell_type": "code",
      "execution_count": 68,
      "metadata": {},
      "outputs": [
        {
          "name": "stdout",
          "output_type": "stream",
          "text": [
            "Epoch 1/50\n",
            "441/441 [==============================] - 3s 5ms/step - loss: 0.3480 - accuracy: 0.8552 - val_loss: 0.1515 - val_accuracy: 0.9495\n",
            "Epoch 2/50\n",
            "441/441 [==============================] - 2s 5ms/step - loss: 0.2065 - accuracy: 0.9312 - val_loss: 0.1334 - val_accuracy: 0.9563\n",
            "Epoch 3/50\n",
            "441/441 [==============================] - 2s 5ms/step - loss: 0.1737 - accuracy: 0.9415 - val_loss: 0.1193 - val_accuracy: 0.9643\n",
            "Epoch 4/50\n",
            "441/441 [==============================] - 2s 5ms/step - loss: 0.1710 - accuracy: 0.9445 - val_loss: 0.1120 - val_accuracy: 0.9612\n",
            "Epoch 5/50\n",
            "441/441 [==============================] - 2s 5ms/step - loss: 0.1589 - accuracy: 0.9489 - val_loss: 0.1115 - val_accuracy: 0.9643\n",
            "Epoch 6/50\n",
            "441/441 [==============================] - 2s 5ms/step - loss: 0.1535 - accuracy: 0.9489 - val_loss: 0.1033 - val_accuracy: 0.9671\n",
            "Epoch 7/50\n",
            "441/441 [==============================] - 2s 5ms/step - loss: 0.1451 - accuracy: 0.9529 - val_loss: 0.1002 - val_accuracy: 0.9702\n",
            "Epoch 8/50\n",
            "441/441 [==============================] - 2s 5ms/step - loss: 0.1427 - accuracy: 0.9553 - val_loss: 0.1008 - val_accuracy: 0.9677\n",
            "Epoch 9/50\n",
            "441/441 [==============================] - 2s 5ms/step - loss: 0.1383 - accuracy: 0.9562 - val_loss: 0.0934 - val_accuracy: 0.9697\n",
            "Epoch 10/50\n",
            "441/441 [==============================] - 2s 5ms/step - loss: 0.1348 - accuracy: 0.9573 - val_loss: 0.0943 - val_accuracy: 0.9688\n",
            "Epoch 11/50\n",
            "441/441 [==============================] - 2s 5ms/step - loss: 0.1339 - accuracy: 0.9593 - val_loss: 0.0908 - val_accuracy: 0.9694\n",
            "Epoch 12/50\n",
            "441/441 [==============================] - 2s 5ms/step - loss: 0.1300 - accuracy: 0.9576 - val_loss: 0.0916 - val_accuracy: 0.9685\n",
            "Epoch 13/50\n",
            "441/441 [==============================] - 2s 5ms/step - loss: 0.1273 - accuracy: 0.9599 - val_loss: 0.0920 - val_accuracy: 0.9711\n",
            "Epoch 14/50\n",
            "441/441 [==============================] - 2s 6ms/step - loss: 0.1240 - accuracy: 0.9612 - val_loss: 0.0926 - val_accuracy: 0.9674\n",
            "Epoch 15/50\n",
            "441/441 [==============================] - 2s 5ms/step - loss: 0.1234 - accuracy: 0.9586 - val_loss: 0.0893 - val_accuracy: 0.9674\n",
            "Epoch 16/50\n",
            "441/441 [==============================] - 2s 5ms/step - loss: 0.1179 - accuracy: 0.9610 - val_loss: 0.0885 - val_accuracy: 0.9694\n",
            "Epoch 17/50\n",
            "441/441 [==============================] - 2s 5ms/step - loss: 0.1214 - accuracy: 0.9609 - val_loss: 0.0886 - val_accuracy: 0.9702\n",
            "Epoch 18/50\n",
            "441/441 [==============================] - 2s 5ms/step - loss: 0.1196 - accuracy: 0.9587 - val_loss: 0.0895 - val_accuracy: 0.9680\n",
            "Epoch 19/50\n",
            "441/441 [==============================] - 2s 5ms/step - loss: 0.1193 - accuracy: 0.9612 - val_loss: 0.0912 - val_accuracy: 0.9674\n",
            "Epoch 20/50\n",
            "441/441 [==============================] - 2s 5ms/step - loss: 0.1196 - accuracy: 0.9592 - val_loss: 0.0937 - val_accuracy: 0.9660\n",
            "Epoch 21/50\n",
            "441/441 [==============================] - 2s 5ms/step - loss: 0.1191 - accuracy: 0.9608 - val_loss: 0.0911 - val_accuracy: 0.9702\n",
            "Epoch 22/50\n",
            "441/441 [==============================] - 2s 5ms/step - loss: 0.1144 - accuracy: 0.9600 - val_loss: 0.0899 - val_accuracy: 0.9663\n",
            "Epoch 23/50\n",
            "441/441 [==============================] - 2s 5ms/step - loss: 0.1114 - accuracy: 0.9638 - val_loss: 0.0874 - val_accuracy: 0.9674\n",
            "Epoch 24/50\n",
            "441/441 [==============================] - 2s 5ms/step - loss: 0.1140 - accuracy: 0.9640 - val_loss: 0.0882 - val_accuracy: 0.9674\n",
            "Epoch 25/50\n",
            "441/441 [==============================] - 2s 5ms/step - loss: 0.1125 - accuracy: 0.9617 - val_loss: 0.0833 - val_accuracy: 0.9680\n",
            "Epoch 26/50\n",
            "441/441 [==============================] - 2s 5ms/step - loss: 0.1172 - accuracy: 0.9600 - val_loss: 0.0881 - val_accuracy: 0.9697\n",
            "Epoch 27/50\n",
            "441/441 [==============================] - 2s 5ms/step - loss: 0.1160 - accuracy: 0.9601 - val_loss: 0.0869 - val_accuracy: 0.9665\n",
            "Epoch 28/50\n",
            "441/441 [==============================] - 2s 5ms/step - loss: 0.1145 - accuracy: 0.9624 - val_loss: 0.0848 - val_accuracy: 0.9663\n",
            "Epoch 29/50\n",
            "441/441 [==============================] - 2s 5ms/step - loss: 0.1105 - accuracy: 0.9636 - val_loss: 0.0865 - val_accuracy: 0.9660\n",
            "Epoch 30/50\n",
            "441/441 [==============================] - 2s 5ms/step - loss: 0.1099 - accuracy: 0.9626 - val_loss: 0.0845 - val_accuracy: 0.9657\n",
            "Epoch 31/50\n",
            "441/441 [==============================] - 2s 5ms/step - loss: 0.1117 - accuracy: 0.9619 - val_loss: 0.0917 - val_accuracy: 0.9668\n",
            "Epoch 32/50\n",
            "441/441 [==============================] - 2s 5ms/step - loss: 0.1157 - accuracy: 0.9602 - val_loss: 0.0847 - val_accuracy: 0.9671\n",
            "Epoch 33/50\n",
            "441/441 [==============================] - 2s 5ms/step - loss: 0.1089 - accuracy: 0.9634 - val_loss: 0.0844 - val_accuracy: 0.9688\n",
            "Epoch 34/50\n",
            "441/441 [==============================] - 2s 5ms/step - loss: 0.1106 - accuracy: 0.9631 - val_loss: 0.0839 - val_accuracy: 0.9694\n",
            "Epoch 35/50\n",
            "441/441 [==============================] - 2s 5ms/step - loss: 0.1093 - accuracy: 0.9623 - val_loss: 0.0807 - val_accuracy: 0.9691\n",
            "Epoch 36/50\n",
            "441/441 [==============================] - 2s 5ms/step - loss: 0.1086 - accuracy: 0.9621 - val_loss: 0.0844 - val_accuracy: 0.9654\n",
            "Epoch 37/50\n",
            "441/441 [==============================] - 2s 5ms/step - loss: 0.1068 - accuracy: 0.9621 - val_loss: 0.0823 - val_accuracy: 0.9682\n",
            "Epoch 38/50\n",
            "441/441 [==============================] - 2s 4ms/step - loss: 0.1058 - accuracy: 0.9635 - val_loss: 0.0820 - val_accuracy: 0.9702\n",
            "Epoch 39/50\n",
            "441/441 [==============================] - 2s 4ms/step - loss: 0.1069 - accuracy: 0.9631 - val_loss: 0.0800 - val_accuracy: 0.9680\n",
            "Epoch 40/50\n",
            "441/441 [==============================] - 2s 4ms/step - loss: 0.1061 - accuracy: 0.9637 - val_loss: 0.0835 - val_accuracy: 0.9680\n",
            "Epoch 41/50\n",
            "441/441 [==============================] - 2s 5ms/step - loss: 0.1086 - accuracy: 0.9625 - val_loss: 0.0818 - val_accuracy: 0.9691\n",
            "Epoch 42/50\n",
            "441/441 [==============================] - 2s 5ms/step - loss: 0.1107 - accuracy: 0.9634 - val_loss: 0.0819 - val_accuracy: 0.9705\n",
            "Epoch 43/50\n",
            "441/441 [==============================] - 2s 5ms/step - loss: 0.0992 - accuracy: 0.9651 - val_loss: 0.0799 - val_accuracy: 0.9691\n",
            "Epoch 44/50\n",
            "441/441 [==============================] - 2s 4ms/step - loss: 0.1027 - accuracy: 0.9648 - val_loss: 0.0798 - val_accuracy: 0.9733\n",
            "Epoch 45/50\n",
            "441/441 [==============================] - 2s 5ms/step - loss: 0.1060 - accuracy: 0.9646 - val_loss: 0.0781 - val_accuracy: 0.9705\n",
            "Epoch 46/50\n",
            "441/441 [==============================] - 2s 5ms/step - loss: 0.1051 - accuracy: 0.9628 - val_loss: 0.0820 - val_accuracy: 0.9711\n",
            "Epoch 47/50\n",
            "441/441 [==============================] - 2s 5ms/step - loss: 0.1083 - accuracy: 0.9628 - val_loss: 0.0829 - val_accuracy: 0.9682\n",
            "Epoch 48/50\n",
            "441/441 [==============================] - 2s 4ms/step - loss: 0.1040 - accuracy: 0.9629 - val_loss: 0.0765 - val_accuracy: 0.9714\n",
            "Epoch 49/50\n",
            "441/441 [==============================] - 2s 4ms/step - loss: 0.1021 - accuracy: 0.9642 - val_loss: 0.0808 - val_accuracy: 0.9691\n",
            "Epoch 50/50\n",
            "441/441 [==============================] - 2s 4ms/step - loss: 0.1025 - accuracy: 0.9651 - val_loss: 0.0786 - val_accuracy: 0.9685\n"
          ]
        }
      ],
      "source": [
        "\n",
        "model.compile(loss='categorical_crossentropy', optimizer=Adam(), metrics=['accuracy'])\n",
        "early_stopping = EarlyStopping(monitor='val_loss', patience=5, restore_best_weights=True)\n",
        "# Train the model\n",
        "history = model.fit(x_train, y_train_cat, epochs=50, batch_size=32, validation_split=0.2, verbose=1)\n"
      ]
    },
    {
      "cell_type": "code",
      "execution_count": 69,
      "metadata": {
        "id": "jePcKV9mzYGq"
      },
      "outputs": [
        {
          "name": "stdout",
          "output_type": "stream",
          "text": [
            "Deep Learning Model Accuracy: 97.31%\n",
            "237/237 [==============================] - 0s 1ms/step\n",
            "Confusion Matrix:\n",
            "[[3362  136]\n",
            " [  67 3993]]\n",
            "Classification Report:\n",
            "              precision    recall  f1-score   support\n",
            "\n",
            "           0       0.98      0.96      0.97      3498\n",
            "           1       0.97      0.98      0.98      4060\n",
            "\n",
            "    accuracy                           0.97      7558\n",
            "   macro avg       0.97      0.97      0.97      7558\n",
            "weighted avg       0.97      0.97      0.97      7558\n",
            "\n"
          ]
        }
      ],
      "source": [
        "# Evaluate the model\n",
        "scores = model.evaluate(x_test, y_test_cat, verbose=0)\n",
        "print(\"Deep Learning Model Accuracy: %.2f%%\" % (scores[1] * 100))\n",
        "\n",
        "# Predictions and classification report\n",
        "y_pred_cat = model.predict(x_test)\n",
        "y_pred = np.argmax(y_pred_cat, axis=1)\n",
        "\n",
        "print(\"Confusion Matrix:\")\n",
        "print(confusion_matrix(y_test, y_pred))\n",
        "print(\"Classification Report:\")\n",
        "print(classification_report(y_test, y_pred))\n"
      ]
    },
    {
      "cell_type": "markdown",
      "metadata": {},
      "source": [
        "# Plot training & validation accuracy values"
      ]
    },
    {
      "cell_type": "code",
      "execution_count": 70,
      "metadata": {},
      "outputs": [
        {
          "data": {
            "image/png": "[encoded data removed]",
            "text/plain": [
              "<Figure size 1200x400 with 2 Axes>"
            ]
          },
          "metadata": {},
          "output_type": "display_data"
        }
      ],
      "source": [
        "\n",
        "plt.figure(figsize=(12, 4))\n",
        "plt.subplot(1, 2, 1)\n",
        "plt.plot(history.history['accuracy'])\n",
        "plt.plot(history.history['val_accuracy'])\n",
        "plt.title('Model accuracy')\n",
        "plt.ylabel('Accuracy')\n",
        "plt.xlabel('Epoch')\n",
        "plt.legend(['Train', 'Validation'], loc='upper left')\n",
        "\n",
        "# Plot training & validation loss values\n",
        "plt.subplot(1, 2, 2)\n",
        "plt.plot(history.history['loss'])\n",
        "plt.plot(history.history['val_loss'])\n",
        "plt.title('Model loss')\n",
        "plt.ylabel('Loss')\n",
        "plt.xlabel('Epoch')\n",
        "plt.legend(['Train', 'Validation'], loc='upper left')\n",
        "\n",
        "plt.show()\n"
      ]
    },
    {
      "cell_type": "code",
      "execution_count": 71,
      "metadata": {},
      "outputs": [
        {
          "data": {
            "text/plain": [
              "<AxesSubplot:>"
            ]
          },
          "execution_count": 71,
          "metadata": {},
          "output_type": "execute_result"
        },
        {
          "data": {
            "image/png": "[encoded data removed]",
            "text/plain": [
              "<Figure size 1000x600 with 1 Axes>"
            ]
          },
          "metadata": {},
          "output_type": "display_data"
        }
      ],
      "source": [
        "\n",
        "from sklearn.metrics import accuracy_score, f1_score\n",
        "\n",
        "f1s = {}\n",
        "for name in models:\n",
        "    f1s[name]=f1_score(y_test, preds[name])\n",
        "f1s['NN']=f1_score(y_test, y_pred)\n",
        "f1s=pd.DataFrame(f1s.values(),index=f1s.keys(),columns=[\"F1-score\"])*100\n",
        "f1s.plot(kind = \"bar\",  ylim=[80,100], figsize=(10,6), rot=0)\n",
        "\n"
      ]
    },
    {
      "cell_type": "code",
      "execution_count": 72,
      "metadata": {},
      "outputs": [
        {
          "data": {
            "text/plain": [
              "KNN    98.423257\n",
              "LR     92.983939\n",
              "DC     99.481993\n",
              "SVC    97.323601\n",
              "GRD    99.322243\n",
              "Rf     99.655257\n",
              "NN     97.521065\n",
              "Name: F1-score, dtype: float64"
            ]
          },
          "execution_count": 72,
          "metadata": {},
          "output_type": "execute_result"
        }
      ],
      "source": [
        "f1s['F1-score']"
      ]
    },
    {
      "cell_type": "code",
      "execution_count": null,
      "metadata": {},
      "outputs": [],
      "source": []
    }
  ],
  "metadata": {
    "colab": {
      "provenance": []
    },
    "kernelspec": {
      "display_name": "Python 3",
      "name": "python3"
    },
    "language_info": {
      "codemirror_mode": {
        "name": "ipython",
        "version": 3
      },
      "file_extension": ".py",
      "mimetype": "text/x-python",
      "name": "python",
      "nbconvert_exporter": "python",
      "pygments_lexer": "ipython3",
      "version": "3.7.12"
    }
  },
  "nbformat": 4,
  "nbformat_minor": 0
}
